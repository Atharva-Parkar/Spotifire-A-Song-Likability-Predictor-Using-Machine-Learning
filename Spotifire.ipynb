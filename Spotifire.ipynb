{
  "nbformat": 4,
  "nbformat_minor": 0,
  "metadata": {
    "colab": {
      "provenance": []
    },
    "kernelspec": {
      "name": "python3",
      "display_name": "Python 3"
    },
    "language_info": {
      "name": "python"
    }
  },
  "cells": [
    {
      "cell_type": "markdown",
      "source": [
        "# Spotifire: A Song Likability Predictor\n",
        "\n"
      ],
      "metadata": {
        "id": "p2bG_fcEqppZ"
      }
    },
    {
      "cell_type": "markdown",
      "source": [
        "### 1. Conneting to Google Drive"
      ],
      "metadata": {
        "id": "HHx9UGkkrlDO"
      }
    },
    {
      "cell_type": "code",
      "source": [
        "from google.colab import drive\n",
        "drive.mount('/content/drive')"
      ],
      "metadata": {
        "id": "P5Mvb24MzMP1",
        "colab": {
          "base_uri": "https://localhost:8080/"
        },
        "outputId": "f92f62c8-5b7d-4279-eb83-afdf28899596"
      },
      "execution_count": 1,
      "outputs": [
        {
          "output_type": "stream",
          "name": "stdout",
          "text": [
            "Mounted at /content/drive\n"
          ]
        }
      ]
    },
    {
      "cell_type": "markdown",
      "source": [
        "### 2. Installing the Spotipy Library"
      ],
      "metadata": {
        "id": "jZBAaurarFY1"
      }
    },
    {
      "cell_type": "code",
      "source": [
        "pip install spotipy"
      ],
      "metadata": {
        "id": "h3HBFam7zSje",
        "colab": {
          "base_uri": "https://localhost:8080/"
        },
        "outputId": "f34c1bf2-4482-4cca-ea7d-a8a64168fa2c"
      },
      "execution_count": 2,
      "outputs": [
        {
          "output_type": "stream",
          "name": "stdout",
          "text": [
            "Collecting spotipy\n",
            "  Downloading spotipy-2.23.0-py3-none-any.whl (29 kB)\n",
            "Collecting redis>=3.5.3 (from spotipy)\n",
            "  Downloading redis-5.0.1-py3-none-any.whl (250 kB)\n",
            "\u001b[2K     \u001b[90m━━━━━━━━━━━━━━━━━━━━━━━━━━━━━━━━━━━━━━━━\u001b[0m \u001b[32m250.3/250.3 kB\u001b[0m \u001b[31m2.8 MB/s\u001b[0m eta \u001b[36m0:00:00\u001b[0m\n",
            "\u001b[?25hRequirement already satisfied: requests>=2.25.0 in /usr/local/lib/python3.10/dist-packages (from spotipy) (2.31.0)\n",
            "Requirement already satisfied: six>=1.15.0 in /usr/local/lib/python3.10/dist-packages (from spotipy) (1.16.0)\n",
            "Requirement already satisfied: urllib3>=1.26.0 in /usr/local/lib/python3.10/dist-packages (from spotipy) (2.0.7)\n",
            "Requirement already satisfied: async-timeout>=4.0.2 in /usr/local/lib/python3.10/dist-packages (from redis>=3.5.3->spotipy) (4.0.3)\n",
            "Requirement already satisfied: charset-normalizer<4,>=2 in /usr/local/lib/python3.10/dist-packages (from requests>=2.25.0->spotipy) (3.3.2)\n",
            "Requirement already satisfied: idna<4,>=2.5 in /usr/local/lib/python3.10/dist-packages (from requests>=2.25.0->spotipy) (3.6)\n",
            "Requirement already satisfied: certifi>=2017.4.17 in /usr/local/lib/python3.10/dist-packages (from requests>=2.25.0->spotipy) (2023.11.17)\n",
            "Installing collected packages: redis, spotipy\n",
            "Successfully installed redis-5.0.1 spotipy-2.23.0\n"
          ]
        }
      ]
    },
    {
      "cell_type": "markdown",
      "source": [
        "\n",
        "\n",
        "### 3. Importing the libraries"
      ],
      "metadata": {
        "id": "G-u-2c-arcUc"
      }
    },
    {
      "cell_type": "code",
      "source": [
        "import spotipy\n",
        "from spotipy.oauth2 import SpotifyClientCredentials\n",
        "import numpy as np\n",
        "import pandas as pd\n",
        "from sklearn.ensemble import RandomForestClassifier\n",
        "from sklearn.model_selection import train_test_split\n",
        "from sklearn.metrics import accuracy_score, precision_score, recall_score, f1_score"
      ],
      "metadata": {
        "id": "TSZFGP6BrbtU"
      },
      "execution_count": 3,
      "outputs": []
    },
    {
      "cell_type": "markdown",
      "source": [
        "### 4. Setting Spotify API credentials"
      ],
      "metadata": {
        "id": "qxaAzPv4rrLb"
      }
    },
    {
      "cell_type": "code",
      "source": [
        "client_id = 'bbdc86e8622e4543bf8ae1ae18c4e614'\n",
        "client_secret = '--------------------------------'\n",
        "\n",
        "sp = spotipy.Spotify(auth_manager=SpotifyClientCredentials(client_id=client_id, client_secret=client_secret))"
      ],
      "metadata": {
        "id": "GaW-VcSorr6H"
      },
      "execution_count": 4,
      "outputs": []
    },
    {
      "cell_type": "markdown",
      "source": [
        "### 5. Loading the dataset from MyDrive and declaring features and target variables"
      ],
      "metadata": {
        "id": "VyC2iD17r0xp"
      }
    },
    {
      "cell_type": "code",
      "source": [
        "# Load Spotify dataset\n",
        "spotify_data = pd.read_csv(r\"/content/drive/My Drive/spotify_data.csv\")\n",
        "\n",
        "# Split dataset into features (X) and target variable (Y)\n",
        "X = spotify_data.drop(['target', 'Unnamed: 0', 'song_title', 'artist'], axis=1)\n",
        "Y = spotify_data['target']"
      ],
      "metadata": {
        "id": "XXkStnVmr1P6"
      },
      "execution_count": 5,
      "outputs": []
    },
    {
      "cell_type": "markdown",
      "source": [
        "### 6. Applying seed, spliting into training and testing sets, and training model"
      ],
      "metadata": {
        "id": "2KyfH0N-sVQJ"
      }
    },
    {
      "cell_type": "code",
      "source": [
        "# Split the data into training and testing sets\n",
        "seed = 42\n",
        "X_train, X_test, y_train, y_test = train_test_split(X, Y, test_size=0.20, shuffle=True, random_state=seed)\n",
        "\n",
        "# Train Random Forest model\n",
        "rf_model = RandomForestClassifier()\n",
        "rf_model.fit(X_train, y_train)"
      ],
      "metadata": {
        "id": "GjgSYY2vsWFo",
        "colab": {
          "base_uri": "https://localhost:8080/",
          "height": 74
        },
        "outputId": "dd6eca50-b7eb-4b42-bfac-f0a973f79156"
      },
      "execution_count": 6,
      "outputs": [
        {
          "output_type": "execute_result",
          "data": {
            "text/plain": [
              "RandomForestClassifier()"
            ],
            "text/html": [
              "<style>#sk-container-id-1 {color: black;background-color: white;}#sk-container-id-1 pre{padding: 0;}#sk-container-id-1 div.sk-toggleable {background-color: white;}#sk-container-id-1 label.sk-toggleable__label {cursor: pointer;display: block;width: 100%;margin-bottom: 0;padding: 0.3em;box-sizing: border-box;text-align: center;}#sk-container-id-1 label.sk-toggleable__label-arrow:before {content: \"▸\";float: left;margin-right: 0.25em;color: #696969;}#sk-container-id-1 label.sk-toggleable__label-arrow:hover:before {color: black;}#sk-container-id-1 div.sk-estimator:hover label.sk-toggleable__label-arrow:before {color: black;}#sk-container-id-1 div.sk-toggleable__content {max-height: 0;max-width: 0;overflow: hidden;text-align: left;background-color: #f0f8ff;}#sk-container-id-1 div.sk-toggleable__content pre {margin: 0.2em;color: black;border-radius: 0.25em;background-color: #f0f8ff;}#sk-container-id-1 input.sk-toggleable__control:checked~div.sk-toggleable__content {max-height: 200px;max-width: 100%;overflow: auto;}#sk-container-id-1 input.sk-toggleable__control:checked~label.sk-toggleable__label-arrow:before {content: \"▾\";}#sk-container-id-1 div.sk-estimator input.sk-toggleable__control:checked~label.sk-toggleable__label {background-color: #d4ebff;}#sk-container-id-1 div.sk-label input.sk-toggleable__control:checked~label.sk-toggleable__label {background-color: #d4ebff;}#sk-container-id-1 input.sk-hidden--visually {border: 0;clip: rect(1px 1px 1px 1px);clip: rect(1px, 1px, 1px, 1px);height: 1px;margin: -1px;overflow: hidden;padding: 0;position: absolute;width: 1px;}#sk-container-id-1 div.sk-estimator {font-family: monospace;background-color: #f0f8ff;border: 1px dotted black;border-radius: 0.25em;box-sizing: border-box;margin-bottom: 0.5em;}#sk-container-id-1 div.sk-estimator:hover {background-color: #d4ebff;}#sk-container-id-1 div.sk-parallel-item::after {content: \"\";width: 100%;border-bottom: 1px solid gray;flex-grow: 1;}#sk-container-id-1 div.sk-label:hover label.sk-toggleable__label {background-color: #d4ebff;}#sk-container-id-1 div.sk-serial::before {content: \"\";position: absolute;border-left: 1px solid gray;box-sizing: border-box;top: 0;bottom: 0;left: 50%;z-index: 0;}#sk-container-id-1 div.sk-serial {display: flex;flex-direction: column;align-items: center;background-color: white;padding-right: 0.2em;padding-left: 0.2em;position: relative;}#sk-container-id-1 div.sk-item {position: relative;z-index: 1;}#sk-container-id-1 div.sk-parallel {display: flex;align-items: stretch;justify-content: center;background-color: white;position: relative;}#sk-container-id-1 div.sk-item::before, #sk-container-id-1 div.sk-parallel-item::before {content: \"\";position: absolute;border-left: 1px solid gray;box-sizing: border-box;top: 0;bottom: 0;left: 50%;z-index: -1;}#sk-container-id-1 div.sk-parallel-item {display: flex;flex-direction: column;z-index: 1;position: relative;background-color: white;}#sk-container-id-1 div.sk-parallel-item:first-child::after {align-self: flex-end;width: 50%;}#sk-container-id-1 div.sk-parallel-item:last-child::after {align-self: flex-start;width: 50%;}#sk-container-id-1 div.sk-parallel-item:only-child::after {width: 0;}#sk-container-id-1 div.sk-dashed-wrapped {border: 1px dashed gray;margin: 0 0.4em 0.5em 0.4em;box-sizing: border-box;padding-bottom: 0.4em;background-color: white;}#sk-container-id-1 div.sk-label label {font-family: monospace;font-weight: bold;display: inline-block;line-height: 1.2em;}#sk-container-id-1 div.sk-label-container {text-align: center;}#sk-container-id-1 div.sk-container {/* jupyter's `normalize.less` sets `[hidden] { display: none; }` but bootstrap.min.css set `[hidden] { display: none !important; }` so we also need the `!important` here to be able to override the default hidden behavior on the sphinx rendered scikit-learn.org. See: https://github.com/scikit-learn/scikit-learn/issues/21755 */display: inline-block !important;position: relative;}#sk-container-id-1 div.sk-text-repr-fallback {display: none;}</style><div id=\"sk-container-id-1\" class=\"sk-top-container\"><div class=\"sk-text-repr-fallback\"><pre>RandomForestClassifier()</pre><b>In a Jupyter environment, please rerun this cell to show the HTML representation or trust the notebook. <br />On GitHub, the HTML representation is unable to render, please try loading this page with nbviewer.org.</b></div><div class=\"sk-container\" hidden><div class=\"sk-item\"><div class=\"sk-estimator sk-toggleable\"><input class=\"sk-toggleable__control sk-hidden--visually\" id=\"sk-estimator-id-1\" type=\"checkbox\" checked><label for=\"sk-estimator-id-1\" class=\"sk-toggleable__label sk-toggleable__label-arrow\">RandomForestClassifier</label><div class=\"sk-toggleable__content\"><pre>RandomForestClassifier()</pre></div></div></div></div></div>"
            ]
          },
          "metadata": {},
          "execution_count": 6
        }
      ]
    },
    {
      "cell_type": "markdown",
      "source": [
        "### 7. Creating function to get relevant features from input song"
      ],
      "metadata": {
        "id": "slpW5Eqws0Qc"
      }
    },
    {
      "cell_type": "code",
      "source": [
        "# Function to get relevant features of a song by its Spotify name\n",
        "def get_song_features_by_name(song_name):\n",
        "    results = sp.search(q=song_name, type='track', limit=1)\n",
        "\n",
        "    if not results['tracks']['items']:\n",
        "        print(f\"No results found for the song '{song_name}'.\")\n",
        "        return None\n",
        "\n",
        "    track_uri = results['tracks']['items'][0]['uri']\n",
        "    features = sp.audio_features(track_uri)\n",
        "\n",
        "\n",
        "    if not features:\n",
        "        print(f\"No audio features found for the song '{song_name}'.\")\n",
        "        return None\n",
        "\n",
        "    relevant_features = [\n",
        "        features[0]['acousticness'],\n",
        "        features[0]['danceability'],\n",
        "        features[0]['duration_ms'],\n",
        "        features[0]['energy'],\n",
        "        features[0]['instrumentalness'],\n",
        "        features[0]['key'],\n",
        "        features[0]['liveness'],\n",
        "        features[0]['loudness'],\n",
        "        features[0]['mode'],\n",
        "        features[0]['speechiness'],\n",
        "        features[0]['tempo'],\n",
        "        features[0]['time_signature'],\n",
        "        features[0]['valence']\n",
        "    ]\n",
        "\n",
        "    return relevant_features"
      ],
      "metadata": {
        "id": "1lFru_gzs0st"
      },
      "execution_count": 7,
      "outputs": []
    },
    {
      "cell_type": "markdown",
      "source": [
        "### 8. Taking user input and providing output using the model"
      ],
      "metadata": {
        "id": "M2yCN8Gqs1zT"
      }
    },
    {
      "cell_type": "code",
      "source": [
        "# Take user input for a song name (case-insensitive)\n",
        "song_name = input(\"Enter the name of the song: \").lower()\n",
        "\n",
        "# Get features for the user's song\n",
        "user_song_features = get_song_features_by_name(song_name)\n",
        "\n",
        "if user_song_features:\n",
        "    # Set feature names on the input data\n",
        "    user_song_data = pd.DataFrame([user_song_features], columns=X.columns)\n",
        "\n",
        "    #print(user_song_data)\n",
        "\n",
        "    # Make prediction for the user's song\n",
        "    user_prediction = rf_model.predict(user_song_data)\n",
        "\n",
        "    # Display the prediction\n",
        "    if user_prediction[0] == 1:\n",
        "        print(\"You might like this song!\")\n",
        "    else:\n",
        "        print(\"You might not like this song.\")"
      ],
      "metadata": {
        "id": "uzbJkVJas2MC",
        "colab": {
          "base_uri": "https://localhost:8080/"
        },
        "outputId": "51aed1f0-1e9b-43a6-9187-968b817efaf1"
      },
      "execution_count": 8,
      "outputs": [
        {
          "output_type": "stream",
          "name": "stdout",
          "text": [
            "Enter the name of the song: Popular\n",
            "You might like this song!\n"
          ]
        }
      ]
    }
  ]
}